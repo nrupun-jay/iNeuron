{
 "cells": [
  {
   "cell_type": "markdown",
   "metadata": {},
   "source": [
    "# Python Assignment 4"
   ]
  },
  {
   "cell_type": "markdown",
   "metadata": {},
   "source": [
    "#### Question 1.1 \n",
    "\n",
    "Write a Python Program(with class concepts) to find the area of the triangle using the below\n",
    "formula.\n",
    "\n",
    "area = (s*(s-a)*(s-b)*(s-c)) ** 0.5\n",
    "\n",
    "Function to take the length of the sides of triangle from user should be defined in the parent class and function to calculate the area should be defined in subclass."
   ]
  },
  {
   "cell_type": "code",
   "execution_count": 17,
   "metadata": {},
   "outputs": [
    {
     "name": "stdout",
     "output_type": "stream",
     "text": [
      "Enter side a: 4.5\n",
      "Enter side b: 2\n",
      "Enter side c: 3.6\n",
      "Area of triangle is : 3.504781555247059\n"
     ]
    }
   ],
   "source": [
    "# Solution for Question 1.1 :\n",
    "\n",
    "class Dimensions:\n",
    "    def __init__(self):\n",
    "        self.a = float(input(\"Enter side a: \"))\n",
    "        self.b = float(input(\"Enter side b: \"))\n",
    "        self.c = float(input(\"Enter side c: \"))\n",
    "\n",
    "class Area_Tri(Dimensions):\n",
    "    def area(self):\n",
    "        s = (self.a + self.b + self.c)/2\n",
    "        area_tri = (s*(s-self.a)*(s-self.b)*(s-self.c)) ** 0.5\n",
    "        print(\"Area of triangle is : {}\".format(area_tri))\n",
    "\n",
    "a = Area_Tri()\n",
    "a.area()"
   ]
  },
  {
   "cell_type": "markdown",
   "metadata": {},
   "source": [
    "#### Question 1.2 -\n",
    "\n",
    "Write a function filter_long_words() that takes a list of words and an integer n and returns\n",
    "the list of words that are longer than n."
   ]
  },
  {
   "cell_type": "code",
   "execution_count": 18,
   "metadata": {},
   "outputs": [],
   "source": [
    "# Solution for Question 1.2 :\n",
    "\n",
    "def filter_long_words(word,n):\n",
    "    lst1=[]\n",
    "    for i in word:\n",
    "        if len(i)>n:\n",
    "            lst1.append(i)\n",
    "    return lst1"
   ]
  },
  {
   "cell_type": "code",
   "execution_count": 19,
   "metadata": {},
   "outputs": [
    {
     "data": {
      "text/plain": [
       "['Mumbai', 'Hyderabad', 'Chennai', 'Bangalore', 'Lucknow']"
      ]
     },
     "execution_count": 19,
     "metadata": {},
     "output_type": "execute_result"
    }
   ],
   "source": [
    "lst=['Delhi','Mumbai','Hyderabad','Goa','Chennai','Bangalore','Lucknow']\n",
    "number=5\n",
    "filter_long_words(lst,number)"
   ]
  },
  {
   "cell_type": "markdown",
   "metadata": {},
   "source": [
    "#### Question 2.1 -\n",
    "\n",
    "Write a Python program using function concept that maps list of words into a list of integers representing the lengths of the corresponding words.\n",
    "Hint: If a list [ab,cde,erty] is passed on to the python function output should come as [2,3,4] . \n",
    "Here 2,3 and 4 are the lengths of the words in the list."
   ]
  },
  {
   "cell_type": "code",
   "execution_count": 31,
   "metadata": {},
   "outputs": [],
   "source": [
    "# Solution for Question 2.1 :\n",
    "\n",
    "def length(lst1):\n",
    "    return len(lst1)"
   ]
  },
  {
   "cell_type": "code",
   "execution_count": 32,
   "metadata": {},
   "outputs": [
    {
     "data": {
      "text/plain": [
       "[5, 6, 9, 3, 7, 9, 7]"
      ]
     },
     "execution_count": 32,
     "metadata": {},
     "output_type": "execute_result"
    }
   ],
   "source": [
    "lst=['Delhi','Mumbai','Hyderabad','Goa','Chennai','Bangalore','Lucknow']\n",
    "word_len=map(length,lst)\n",
    "list(word_len)"
   ]
  },
  {
   "cell_type": "markdown",
   "metadata": {},
   "source": [
    "#### Question 2.2 -\n",
    "\n",
    "Write a Python function which takes a character (i.e. a string of length 1) and returns True if it is a vowel, False otherwise."
   ]
  },
  {
   "cell_type": "code",
   "execution_count": 33,
   "metadata": {},
   "outputs": [],
   "source": [
    "# Solution for Question 2.2 :\n",
    "\n",
    "def vowel(lst1):\n",
    "    vowel_lst=[]\n",
    "    for i in lst1:\n",
    "        if i == 'a' or i == 'e' or i == 'i' or i == 'o' or i == 'u':\n",
    "            vowel_lst.append(True)\n",
    "        else:\n",
    "            vowel_lst.append(False)\n",
    "    return vowel_lst"
   ]
  },
  {
   "cell_type": "code",
   "execution_count": 34,
   "metadata": {},
   "outputs": [
    {
     "data": {
      "text/plain": [
       "[False, True, False, True, True, False, False]"
      ]
     },
     "execution_count": 34,
     "metadata": {},
     "output_type": "execute_result"
    }
   ],
   "source": [
    "lst=['b','i','g','a','o','q','l']\n",
    "vowel(lst)"
   ]
  }
 ],
 "metadata": {
  "kernelspec": {
   "display_name": "Python 3",
   "language": "python",
   "name": "python3"
  },
  "language_info": {
   "codemirror_mode": {
    "name": "ipython",
    "version": 3
   },
   "file_extension": ".py",
   "mimetype": "text/x-python",
   "name": "python",
   "nbconvert_exporter": "python",
   "pygments_lexer": "ipython3",
   "version": "3.8.5"
  }
 },
 "nbformat": 4,
 "nbformat_minor": 4
}
